{
 "cells": [
  {
   "cell_type": "code",
   "execution_count": 1,
   "metadata": {},
   "outputs": [],
   "source": [
    "# 09/03/2020 nadanai.laohakunakorn@ed.ac.uk\n",
    "\n",
    "# readPlate\n",
    "\n",
    "# Read plate reader data from Excel file and output a reduced Excel file \n",
    "# containing just the timeseries data.\n",
    "\n",
    "# This notebook can be run directly in colab: drag the notebook file into colab, and \n",
    "# upload the data file '*.xlsx' to the same directory. \n",
    "\n",
    "# Alternatively you can run this locally, using Anaconda or another virtual environment. \n",
    "# Again, just make sure the data file is in the same directory.\n",
    "\n",
    "# Tested with \n",
    "# python 3.6, python 3.7, python 3.8\n",
    "# numpy 1.17.2\n",
    "# matplotlib 2.1.1\n",
    "# pandas 0.23.4\n",
    "# xlrd 1.2.0\n",
    "# xlwt 1.3.0"
   ]
  },
  {
   "cell_type": "code",
   "execution_count": 2,
   "metadata": {},
   "outputs": [],
   "source": [
    "# 0. Set up packages we need\n",
    "\n",
    "# Import everything:\n",
    "import numpy as np # Maths functions, matrices \n",
    "import matplotlib.pyplot as plt # Plotting\n",
    "import pandas as pd # Dataframes, which are more advanced arrays, useful for storing and manipulating data"
   ]
  },
  {
   "cell_type": "code",
   "execution_count": 3,
   "metadata": {},
   "outputs": [],
   "source": [
    "# Parameters which must be set before running code go here:\n",
    "\n",
    "NUMBER_OF_WELLS = 16\n",
    "INPUT_FILE = './raw_data/NL_GFP_plate_19-02.xlsx'\n",
    "OUTPUT_FILE = './reduced_data/reduced_data.xlsx'"
   ]
  },
  {
   "cell_type": "code",
   "execution_count": 4,
   "metadata": {},
   "outputs": [],
   "source": [
    "# 1. READ DATA FROM FILE\n",
    "# Read our excel file into a variable called 'xls'\n",
    "# The function ExcelFile() comes from the pandas package\n",
    "# It takes as an argument the path to the data file; './' is the current directory\n",
    "# If you get an error here you might have to install the package xlrd ('Excel read')\n",
    "# using the command: pip3 install xlrd\n",
    "\n",
    "xls = pd.ExcelFile(INPUT_FILE)\n",
    "df = pd.read_excel(xls)\n",
    "\n",
    "# 2. GET DATA INTO DATAFRAMES\n",
    "# Find where data blocks are\n",
    "chromatic_start_indices = df[df.iloc[:,0].str.contains('Chromatic', na=False) == True].index.tolist()\n",
    "number_of_chromatics = len(chromatic_start_indices)\n",
    "\n",
    "# Get temp indices\n",
    "temp_start_indices = [idx+5 for idx in chromatic_start_indices]\n",
    "\n",
    "# Get chromatic settings\n",
    "chromatic_start_ID = df[df.iloc[:,0].str.contains('Used filters', na=False) == True].index.tolist()\n",
    "chromatic_IDs = []\n",
    "for i in range(number_of_chromatics):\n",
    "    chromatic_IDs.append(df.iloc[chromatic_start_ID[0]+1+i,0])\n",
    "chromatic_IDs = [ID.lstrip()[3:] for ID in chromatic_IDs] # Clean up chromatic names\n",
    "\n",
    "# We will put each chromatic into a separate dataframe\n",
    "# and store the dataframes in a python dictionary\n",
    "\n",
    "data_dict = {}\n",
    "\n",
    "# For each chromatic, extract data\n",
    "for i in range(len(chromatic_IDs)):\n",
    "\n",
    "    df1=pd.DataFrame(index=None)\n",
    "    df1['Time (s)'] = df.iloc[chromatic_start_indices[i]+3,:]\n",
    "    df1['Temp (*C)'] = df.iloc[temp_start_indices[i],:]\n",
    "\n",
    "    # Get data indices\n",
    "    data_indices = np.arange(temp_start_indices[i]+1,temp_start_indices[i]+NUMBER_OF_WELLS+1).tolist()\n",
    "\n",
    "    # Extract well IDs from first column\n",
    "    initial_values = df.iloc[data_indices,0].tolist()\n",
    "    headers = [head[:3] for head in initial_values]\n",
    "    initial_data = [int(datum[4:]) for datum in initial_values]\n",
    "\n",
    "    # Then strip first column, editing original df\n",
    "    for j in range(NUMBER_OF_WELLS):\n",
    "        df.iloc[data_indices[j],0]=initial_data[j]\n",
    "\n",
    "    # Write all data\n",
    "    for j in range(NUMBER_OF_WELLS):\n",
    "        df1[headers[j]]=df.iloc[data_indices[j],:]\n",
    "\n",
    "    df1=df1.reset_index(drop=True)   \n",
    "    \n",
    "    data_dict[chromatic_IDs[i]] = df1\n",
    "    \n",
    "# 3. SAVE DATA TO NEW EXCEL FILE\n",
    "# Finally let's save our dataframe to a new file\n",
    "# If you get an error here you might have to install the package xlwt ('Excel write') \n",
    "# and openpyxl\n",
    "# using the command: pip3 install xlwt openpyxl\n",
    "\n",
    "with pd.ExcelWriter(OUTPUT_FILE) as WRITER:\n",
    "    for i in range(len(chromatic_IDs)):\n",
    "        data_dict[chromatic_IDs[i]].to_excel(WRITER, sheet_name='Sheet '+str(i))"
   ]
  },
  {
   "cell_type": "code",
   "execution_count": 5,
   "metadata": {},
   "outputs": [],
   "source": [
    "# How to use the reduced file\n",
    "\n",
    "# 1. Read file\n",
    "xls = pd.ExcelFile(OUTPUT_FILE)\n",
    "# 2. Select sheet and put into dataframe\n",
    "df = pd.read_excel(xls,sheet_name='Sheet 0')\n"
   ]
  },
  {
   "cell_type": "code",
   "execution_count": 6,
   "metadata": {},
   "outputs": [
    {
     "data": {
      "text/plain": [
       "0          0\n",
       "1        120\n",
       "2        240\n",
       "3        360\n",
       "4        480\n",
       "       ...  \n",
       "356    42720\n",
       "357    42840\n",
       "358    42960\n",
       "359    43080\n",
       "360    43200\n",
       "Name: Time (s), Length: 361, dtype: int64"
      ]
     },
     "execution_count": 6,
     "metadata": {},
     "output_type": "execute_result"
    }
   ],
   "source": [
    "# TO GET TIME AXIS\n",
    "df['Time (s)']"
   ]
  },
  {
   "cell_type": "code",
   "execution_count": 7,
   "metadata": {},
   "outputs": [
    {
     "data": {
      "text/plain": [
       "0       118\n",
       "1       109\n",
       "2       108\n",
       "3       102\n",
       "4        94\n",
       "       ... \n",
       "356    2779\n",
       "357    2795\n",
       "358    2791\n",
       "359    2799\n",
       "360    2790\n",
       "Name: F09, Length: 361, dtype: int64"
      ]
     },
     "execution_count": 7,
     "metadata": {},
     "output_type": "execute_result"
    }
   ],
   "source": [
    "# To get data from well 'F09'\n",
    "df['F09']"
   ]
  },
  {
   "cell_type": "code",
   "execution_count": 8,
   "metadata": {},
   "outputs": [
    {
     "data": {
      "image/png": "[encoded data removed]",
      "text/plain": [
       "<Figure size 432x288 with 1 Axes>"
      ]
     },
     "metadata": {
      "needs_background": "light"
     },
     "output_type": "display_data"
    }
   ],
   "source": [
    "# To plot them against each other\n",
    "plt.plot(df['Time (s)'], df['F09']); plt.show()"
   ]
  },
  {
   "cell_type": "code",
   "execution_count": null,
   "metadata": {},
   "outputs": [],
   "source": []
  }
 ],
 "metadata": {
  "kernelspec": {
   "display_name": "Python 3",
   "language": "python",
   "name": "python3"
  },
  "language_info": {
   "codemirror_mode": {
    "name": "ipython",
    "version": 3
   },
   "file_extension": ".py",
   "mimetype": "text/x-python",
   "name": "python",
   "nbconvert_exporter": "python",
   "pygments_lexer": "ipython3",
   "version": "3.8.5"
  },
  "latex_envs": {
   "LaTeX_envs_menu_present": true,
   "autoclose": true,
   "autocomplete": true,
   "bibliofile": "biblio.bib",
   "cite_by": "apalike",
   "current_citInitial": 1,
   "eqLabelWithNumbers": true,
   "eqNumInitial": 1,
   "hotkeys": {
    "equation": "Ctrl-E",
    "itemize": "Ctrl-I"
   },
   "labels_anchors": false,
   "latex_user_defs": false,
   "report_style_numbering": false,
   "user_envs_cfg": false
  }
 },
 "nbformat": 4,
 "nbformat_minor": 4
}
